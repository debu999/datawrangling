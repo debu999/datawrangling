{
 "cells": [
  {
   "cell_type": "code",
   "execution_count": 1,
   "metadata": {},
   "outputs": [
    {
     "name": "stdout",
     "output_type": "stream",
     "text": [
      "Python 3.7.0\r\n"
     ]
    }
   ],
   "source": [
    "import sys\n",
    "import pandas as pd\n",
    "import os\n",
    "from pprint import pprint as pp\n",
    "df = pd.read_csv(\"titanic.csv\")\n",
    "!python3.7 --version\n"
   ]
  },
  {
   "cell_type": "code",
   "execution_count": 2,
   "metadata": {},
   "outputs": [
    {
     "name": "stdout",
     "output_type": "stream",
     "text": [
      "['3.7.0 (default, Aug 25 2018, 20:44:19) \\n[GCC 7.3.0]',\n",
      " '/doogle/githubrepos/datawrangling/datawarangling',\n",
      "    passenger_id  pclass                                               name  \\\n",
      "0          1216       3                                 Smyth, Miss. Julia   \n",
      "1           699       3                                    Cacic, Mr. Luka   \n",
      "2          1267       3  Van Impe, Mrs. Jean Baptiste (Rosalie Paula Go...   \n",
      "3           449       2              Hocking, Mrs. Elizabeth (Eliza Needs)   \n",
      "4           576       2                                    Veal, Mr. James   \n",
      "\n",
      "      sex   age  sibsp  parch  ticket     fare cabin embarked boat  body  \\\n",
      "0  female   NaN      0      0  335432   7.7333   NaN        Q   13   NaN   \n",
      "1    male  38.0      0      0  315089   8.6625   NaN        S  NaN   NaN   \n",
      "2  female  30.0      1      1  345773  24.1500   NaN        S  NaN   NaN   \n",
      "3  female  54.0      1      3   29105  23.0000   NaN        S    4   NaN   \n",
      "4    male  40.0      0      0   28221  13.0000   NaN        S  NaN   NaN   \n",
      "\n",
      "                  home.dest  survived  \n",
      "0                       NaN         1  \n",
      "1                   Croatia         0  \n",
      "2                       NaN         0  \n",
      "3      Cornwall / Akron, OH         1  \n",
      "4  Barre, Co Washington, VT         0  ]\n"
     ]
    }
   ],
   "source": [
    "pp([sys.version, os.getcwd(), df.head()])"
   ]
  },
  {
   "cell_type": "code",
   "execution_count": 3,
   "metadata": {},
   "outputs": [
    {
     "name": "stdout",
     "output_type": "stream",
     "text": [
      "   passenger_id  pclass     sex   age  sibsp  parch  ticket     fare cabin  \\\n",
      "0          1216       3  female   NaN      0      0  335432   7.7333   NaN   \n",
      "1           699       3    male  38.0      0      0  315089   8.6625   NaN   \n",
      "2          1267       3  female  30.0      1      1  345773  24.1500   NaN   \n",
      "3           449       2  female  54.0      1      3   29105  23.0000   NaN   \n",
      "4           576       2    male  40.0      0      0   28221  13.0000   NaN   \n",
      "\n",
      "  embarked boat  body                 home.dest  survived  \n",
      "0        Q   13   NaN                       NaN         1  \n",
      "1        S  NaN   NaN                   Croatia         0  \n",
      "2        S  NaN   NaN                       NaN         0  \n",
      "3        S    4   NaN      Cornwall / Akron, OH         1  \n",
      "4        S  NaN   NaN  Barre, Co Washington, VT         0  \n"
     ]
    }
   ],
   "source": [
    "df.drop(df.columns[[2]], axis=1, inplace=True)\n",
    "pp(df.head())"
   ]
  },
  {
   "cell_type": "code",
   "execution_count": 4,
   "metadata": {},
   "outputs": [
    {
     "name": "stdout",
     "output_type": "stream",
     "text": [
      "[passenger_id      1216\n",
      "pclass               3\n",
      "sex             female\n",
      "age                NaN\n",
      "sibsp                0\n",
      "parch                0\n",
      "ticket          335432\n",
      "fare            7.7333\n",
      "cabin              NaN\n",
      "embarked             Q\n",
      "boat                13\n",
      "body               NaN\n",
      "home.dest          NaN\n",
      "survived             1\n",
      "Name: 0, dtype: object,\n",
      "    passenger_id  pclass     sex   age  sibsp  parch  ticket     fare cabin  \\\n",
      "0          1216       3  female   NaN      0      0  335432   7.7333   NaN   \n",
      "1           699       3    male  38.0      0      0  315089   8.6625   NaN   \n",
      "2          1267       3  female  30.0      1      1  345773  24.1500   NaN   \n",
      "3           449       2  female  54.0      1      3   29105  23.0000   NaN   \n",
      "4           576       2    male  40.0      0      0   28221  13.0000   NaN   \n",
      "5          1083       3    male  28.0      0      0  C 4001  22.5250   NaN   \n",
      "6           898       3    male  19.0      0      0    LINE   0.0000   NaN   \n",
      "7           560       2  female  30.0      0      0  250648  13.0000   NaN   \n",
      "\n",
      "  embarked boat   body                 home.dest  survived  \n",
      "0        Q   13    NaN                       NaN         1  \n",
      "1        S  NaN    NaN                   Croatia         0  \n",
      "2        S  NaN    NaN                       NaN         0  \n",
      "3        S    4    NaN      Cornwall / Akron, OH         1  \n",
      "4        S  NaN    NaN  Barre, Co Washington, VT         0  \n",
      "5        S  NaN  173.0                       NaN         0  \n",
      "6        S  NaN    NaN                       NaN         0  \n",
      "7        S   10    NaN  Finland / Washington, DC         1  ,\n",
      "      passenger_id\n",
      "0            1216\n",
      "1             699\n",
      "2            1267\n",
      "3             449\n",
      "4             576\n",
      "5            1083\n",
      "6             898\n",
      "7             560\n",
      "8            1079\n",
      "9             908\n",
      "10            313\n",
      "11             43\n",
      "12            233\n",
      "13            446\n",
      "14            602\n",
      "15            884\n",
      "16            497\n",
      "17           1003\n",
      "18             36\n",
      "19           1088\n",
      "20            978\n",
      "21           1030\n",
      "22            438\n",
      "23            766\n",
      "24            661\n",
      "25            556\n",
      "26           1008\n",
      "27            575\n",
      "28            775\n",
      "29            162\n",
      "..            ...\n",
      "820          1167\n",
      "821          1123\n",
      "822           754\n",
      "823           855\n",
      "824          1188\n",
      "825           693\n",
      "826           253\n",
      "827           892\n",
      "828          1245\n",
      "829            94\n",
      "830           104\n",
      "831           217\n",
      "832           306\n",
      "833           487\n",
      "834            61\n",
      "835           345\n",
      "836           107\n",
      "837           102\n",
      "838           333\n",
      "839            62\n",
      "840          1256\n",
      "841           208\n",
      "842           709\n",
      "843          1288\n",
      "844           165\n",
      "845           158\n",
      "846           174\n",
      "847           467\n",
      "848          1112\n",
      "849           425\n",
      "\n",
      "[850 rows x 1 columns]]\n"
     ]
    }
   ],
   "source": [
    "pp([df.iloc[0], df.iloc[0:8], df.loc[:, ['passenger_id']]])"
   ]
  },
  {
   "cell_type": "code",
   "execution_count": 5,
   "metadata": {},
   "outputs": [
    {
     "name": "stdout",
     "output_type": "stream",
     "text": [
      "(   passenger_id  pclass                                               name  \\\n",
      "0          1216       3                                 Smyth, Miss. Julia   \n",
      "1           699       3                                    Cacic, Mr. Luka   \n",
      "2          1267       3  Van Impe, Mrs. Jean Baptiste (Rosalie Paula Go...   \n",
      "3           449       2              Hocking, Mrs. Elizabeth (Eliza Needs)   \n",
      "4           576       2                                    Veal, Mr. James   \n",
      "\n",
      "      sex   age  sibsp  parch  ticket     fare cabin embarked boat  body  \\\n",
      "0  female   NaN      0      0  335432   7.7333   NaN        Q   13   NaN   \n",
      "1    male  38.0      0      0  315089   8.6625   NaN        S  NaN   NaN   \n",
      "2  female  30.0      1      1  345773  24.1500   NaN        S  NaN   NaN   \n",
      "3  female  54.0      1      3   29105  23.0000   NaN        S    4   NaN   \n",
      "4    male  40.0      0      0   28221  13.0000   NaN        S  NaN   NaN   \n",
      "\n",
      "                  home.dest  survived  \n",
      "0                       NaN         1  \n",
      "1                   Croatia         0  \n",
      "2                       NaN         0  \n",
      "3      Cornwall / Akron, OH         1  \n",
      "4  Barre, Co Washington, VT         0  ,\n",
      "                                                   name   age\n",
      "0                                   Smyth, Miss. Julia   NaN\n",
      "1                                      Cacic, Mr. Luka  38.0\n",
      "2    Van Impe, Mrs. Jean Baptiste (Rosalie Paula Go...  30.0\n",
      "3                Hocking, Mrs. Elizabeth (Eliza Needs)  54.0\n",
      "4                                      Veal, Mr. James  40.0\n",
      "5                             Olsen, Mr. Henry Margido  28.0\n",
      "6                      Johnson, Mr. William Cahoone Jr  19.0\n",
      "7                                Sinkkonen, Miss. Anna  30.0\n",
      "8                                   Ohman, Miss. Velin  22.0\n",
      "9                             Jussila, Miss. Mari Aina  21.0\n",
      "10                           Widener, Mr. Harry Elkins  27.0\n",
      "11     Bucknell, Mrs. William Robert (Emma Eliza Ward)  60.0\n",
      "12       Potter, Mrs. Thomas Jr (Lily Alexenia Wilson)  56.0\n",
      "13                       Hocking, Miss. Ellen \"Nellie\"  20.0\n",
      "14                         Abbott, Mr. Rossmore Edward  16.0\n",
      "15                             Jensen, Mr. Niels Peder  48.0\n",
      "16                           Maybery, Mr. Frank Hubert  40.0\n",
      "17                                  McCoy, Mr. Bernard   NaN\n",
      "18                         Bowerman, Miss. Elsie Edith  22.0\n",
      "19                           Olsson, Mr. Oscar Wilhelm  32.0\n",
      "20                                   Lulic, Mr. Nikola  27.0\n",
      "21                                    Moran, Mr. James   NaN\n",
      "22                                  Herman, Miss. Kate  24.0\n",
      "23                                  Delalic, Mr. Redjo  25.0\n",
      "24                          Badman, Miss. Emily Louisa  18.0\n",
      "25                         Sharp, Mr. Percival James R  27.0\n",
      "26                            McGowan, Miss. Katherine  35.0\n",
      "27   Turpin, Mrs. William John Robert (Dorothy Ann ...  27.0\n",
      "28                                 Doharr, Mr. Tannous   NaN\n",
      "29                      Holverson, Mr. Alexander Oskar  42.0\n",
      "..                                                 ...   ...\n",
      "820                               Sadlier, Mr. Matthew   NaN\n",
      "821             Peter, Mrs. Catherine (Catherine Rizk)   NaN\n",
      "822                            Davies, Mr. John Samuel  21.0\n",
      "823                           Hassan, Mr. Houssein G N  11.0\n",
      "824  Sandstrom, Mrs. Hjalmar (Agnes Charlotta Bengt...  24.0\n",
      "825                                Buckley, Mr. Daniel  21.0\n",
      "826    Ryerson, Mrs. Arthur Larned (Emily Maria Borie)  48.0\n",
      "827                          Johansson, Mr. Karl Johan  31.0\n",
      "828                    Thomson, Mr. Alexander Morrison   NaN\n",
      "829                          Dodge, Master. Washington   4.0\n",
      "830                     Eustis, Miss. Elizabeth Mussey  54.0\n",
      "831                       Nicholson, Mr. Arthur Ernest  64.0\n",
      "832                        White, Mr. Percival Wayland  54.0\n",
      "833                                  Lingane, Mr. John  61.0\n",
      "834  Cavendish, Mrs. Tyrell William (Julia Florence...  76.0\n",
      "835                         Berriman, Mr. William John  23.0\n",
      "836               Flegenheim, Mrs. Alfred (Antoinette)   NaN\n",
      "837              Earnshaw, Mrs. Boulton (Olive Potter)  23.0\n",
      "838                            Ball, Mrs. (Ada E Hall)  36.0\n",
      "839                        Chaffee, Mr. Herbert Fuller  46.0\n",
      "840                     Touma, Master. Georges Youssef   7.0\n",
      "841    Minahan, Mrs. William Edward (Lillian E Thorpe)  37.0\n",
      "842                          Carr, Miss. Helen \"Ellen\"  16.0\n",
      "843                          Wiklund, Mr. Jakob Alfred  18.0\n",
      "844                       Hoyt, Mr. Frederick Maxfield  38.0\n",
      "845                        Hipkins, Mr. William Edward  55.0\n",
      "846                            Kent, Mr. Edward Austin  58.0\n",
      "847                Kantor, Mrs. Sinai (Miriam Sternin)  24.0\n",
      "848                          Peacock, Miss. Treasteall   3.0\n",
      "849                              Greenberg, Mr. Samuel  52.0\n",
      "\n",
      "[850 rows x 2 columns],\n",
      "      passenger_id  pclass                          name   sex   age  sibsp  \\\n",
      "844           165       1  Hoyt, Mr. Frederick Maxfield  male  38.0      1   \n",
      "\n",
      "     parch ticket  fare cabin embarked boat  body  \\\n",
      "844      0  19943  90.0   C93        S    D   NaN   \n",
      "\n",
      "                       home.dest  survived  \n",
      "844  New York, NY /  Stamford CT         1  ,\n",
      " sex     survived\n",
      "female  0            89\n",
      "        1           210\n",
      "male    0           448\n",
      "        1           103\n",
      "Name: passenger_id, dtype: int64,\n",
      " pclass\n",
      "1    39.110960\n",
      "2    28.601496\n",
      "3    24.693949\n",
      "Name: age, dtype: float64,\n",
      "    pclass        age\n",
      "0       1  39.110960\n",
      "1       2  28.601496\n",
      "2       3  24.693949)\n"
     ]
    }
   ],
   "source": [
    "df = pd.read_csv(\"titanic.csv\")\n",
    "meanagedf = df.groupby([\"pclass\"])[\"age\"].mean().reset_index()\n",
    "pp((df.head(), df.loc[:,['name', 'age']], df[df[\"name\"] == \"Hoyt, Mr. Frederick Maxfield\" ], df.groupby([\"sex\", \"survived\"])[\"passenger_id\"].count(), df.groupby([\"pclass\"])[\"age\"].mean(),\n",
    "meanagedf))"
   ]
  },
  {
   "cell_type": "code",
   "execution_count": 6,
   "metadata": {},
   "outputs": [
    {
     "name": "stdout",
     "output_type": "stream",
     "text": [
      "   passenger_id  pclass                                               name  \\\n",
      "0          1216       3                                 Smyth, Miss. Julia   \n",
      "1           699       3                                    Cacic, Mr. Luka   \n",
      "2          1267       3  Van Impe, Mrs. Jean Baptiste (Rosalie Paula Go...   \n",
      "3           449       2              Hocking, Mrs. Elizabeth (Eliza Needs)   \n",
      "4           576       2                                    Veal, Mr. James   \n",
      "\n",
      "      sex   age  sibsp  parch  ticket     fare cabin embarked boat  body  \\\n",
      "0  female   NaN      0      0  335432   7.7333   NaN        Q   13   NaN   \n",
      "1    male  38.0      0      0  315089   8.6625   NaN        S  NaN   NaN   \n",
      "2  female  30.0      1      1  345773  24.1500   NaN        S  NaN   NaN   \n",
      "3  female  54.0      1      3   29105  23.0000   NaN        S    4   NaN   \n",
      "4    male  40.0      0      0   28221  13.0000   NaN        S  NaN   NaN   \n",
      "\n",
      "                  home.dest  survived  \n",
      "0                       NaN         1  \n",
      "1                   Croatia         0  \n",
      "2                       NaN         0  \n",
      "3      Cornwall / Akron, OH         1  \n",
      "4  Barre, Co Washington, VT         0  \n"
     ]
    }
   ],
   "source": [
    "print(df.head())"
   ]
  },
  {
   "cell_type": "code",
   "execution_count": 7,
   "metadata": {},
   "outputs": [],
   "source": [
    "df.drop(df.columns[[0,2]], axis=1, inplace=True)\n",
    "# df.drop(df.columns([0]), axis=1, inplace=True)"
   ]
  },
  {
   "cell_type": "code",
   "execution_count": 9,
   "metadata": {},
   "outputs": [
    {
     "name": "stdout",
     "output_type": "stream",
     "text": [
      "   pclass     sex   age  sibsp  parch  ticket     fare cabin embarked boat  \\\n",
      "0       3  female   NaN      0      0  335432   7.7333   NaN        Q   13   \n",
      "1       3    male  38.0      0      0  315089   8.6625   NaN        S  NaN   \n",
      "2       3  female  30.0      1      1  345773  24.1500   NaN        S  NaN   \n",
      "3       2  female  54.0      1      3   29105  23.0000   NaN        S    4   \n",
      "4       2    male  40.0      0      0   28221  13.0000   NaN        S  NaN   \n",
      "\n",
      "   body                 home.dest  survived  \n",
      "0   NaN                       NaN         1  \n",
      "1   NaN                   Croatia         0  \n",
      "2   NaN                       NaN         0  \n",
      "3   NaN      Cornwall / Akron, OH         1  \n",
      "4   NaN  Barre, Co Washington, VT         0  \n"
     ]
    }
   ],
   "source": [
    "print(df.head())"
   ]
  },
  {
   "cell_type": "markdown",
   "metadata": {},
   "source": [
    "### Pandas Key Functions/Methods\n",
    "### isnull() dropna() fillna() duplicated() drop_duplicates() set_index()"
   ]
  }
 ],
 "metadata": {
  "kernelspec": {
   "display_name": "Python 3",
   "language": "python",
   "name": "python3"
  },
  "language_info": {
   "codemirror_mode": {
    "name": "ipython",
    "version": 3
   },
   "file_extension": ".py",
   "mimetype": "text/x-python",
   "name": "python",
   "nbconvert_exporter": "python",
   "pygments_lexer": "ipython3",
   "version": "3.7.0"
  }
 },
 "nbformat": 4,
 "nbformat_minor": 2
}
