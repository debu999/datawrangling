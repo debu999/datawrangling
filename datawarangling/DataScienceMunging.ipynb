{
 "cells": [
  {
   "cell_type": "code",
   "execution_count": 1,
   "metadata": {},
   "outputs": [],
   "source": [
    "import requests\n",
    "# url\n",
    "url = \"https://api.data.gov/ed/collegescorecard/v1/schools?school.region_id__not=5&api_key=Ezk0NpRNKVQmzc3YoY0dwuRceTWV72bA0oSe8OgR\"\n",
    "res = requests.get(url)"
   ]
  },
  {
   "cell_type": "code",
   "execution_count": 2,
   "metadata": {},
   "outputs": [
    {
     "data": {
      "text/plain": [
       "200"
      ]
     },
     "execution_count": 2,
     "metadata": {},
     "output_type": "execute_result"
    }
   ],
   "source": [
    "res.status_code"
   ]
  },
  {
   "cell_type": "code",
   "execution_count": 3,
   "metadata": {},
   "outputs": [
    {
     "data": {
      "text/plain": [
       "{'Server': 'openresty', 'Date': 'Sun, 02 Sep 2018 04:53:01 GMT', 'Content-Type': 'application/json', 'Transfer-Encoding': 'chunked', 'Connection': 'keep-alive', 'Vary': 'Accept-Encoding, Accept-Encoding', 'X-RateLimit-Limit': '1000', 'X-RateLimit-Remaining': '998', 'Access-Control-Allow-Methods': 'GET', 'Access-Control-Allow-Origin': '*', 'X-Content-Type-Options': 'nosniff', 'X-Vcap-Request-Id': '4b5bf52d-ef6b-4595-6851-fd4a97826bc5', 'X-Frame-Options': 'DENY', 'Strict-Transport-Security': 'max-age=31536000, max-age=31536000; preload', 'X-XSS-Protection': '1; mode=block', 'Content-Encoding': 'gzip', 'Age': '2', 'Via': 'https/1.1 api-umbrella (ApacheTrafficServer [cSsSfU])', 'Cache-Control': 'public, max-age=300', 'X-Cache': 'MISS'}"
      ]
     },
     "execution_count": 3,
     "metadata": {},
     "output_type": "execute_result"
    }
   ],
   "source": [
    "res.headers"
   ]
  },
  {
   "cell_type": "code",
   "execution_count": 4,
   "metadata": {},
   "outputs": [
    {
     "data": {
      "text/plain": [
       "11191954"
      ]
     },
     "execution_count": 4,
     "metadata": {},
     "output_type": "execute_result"
    }
   ],
   "source": [
    "len(res.content)"
   ]
  },
  {
   "cell_type": "code",
   "execution_count": 5,
   "metadata": {},
   "outputs": [
    {
     "name": "stdout",
     "output_type": "stream",
     "text": [
      "Requirement already satisfied: python-dotenv in /home/doogle/.local/lib/python3.7/site-packages (0.9.1)\n",
      "Requirement already satisfied: kaggle in /home/doogle/.local/lib/python3.7/site-packages (1.4.7.1)\n",
      "Requirement already satisfied: urllib3<1.23.0,>=1.15 in /home/doogle/.local/lib/python3.7/site-packages (from kaggle) (1.22)\n",
      "Requirement already satisfied: six>=1.10 in /home/doogle/.local/lib/python3.7/site-packages (from kaggle) (1.11.0)\n",
      "Requirement already satisfied: certifi in /home/doogle/.local/lib/python3.7/site-packages (from kaggle) (2018.8.24)\n",
      "Requirement already satisfied: python-dateutil in /home/doogle/.local/lib/python3.7/site-packages (from kaggle) (2.7.3)\n",
      "Requirement already satisfied: requests in /home/doogle/.local/lib/python3.7/site-packages (from kaggle) (2.19.1)\n",
      "Requirement already satisfied: tqdm in /home/doogle/.local/lib/python3.7/site-packages (from kaggle) (4.25.0)\n",
      "Requirement already satisfied: python-slugify in /home/doogle/.local/lib/python3.7/site-packages (from kaggle) (1.2.5)\n",
      "Requirement already satisfied: idna<2.8,>=2.5 in /home/doogle/.local/lib/python3.7/site-packages (from requests->kaggle) (2.7)\n",
      "Requirement already satisfied: chardet<3.1.0,>=3.0.2 in /home/doogle/.local/lib/python3.7/site-packages (from requests->kaggle) (3.0.4)\n",
      "Requirement already satisfied: Unidecode>=0.04.16 in /home/doogle/.local/lib/python3.7/site-packages (from python-slugify->kaggle) (1.0.22)\n"
     ]
    }
   ],
   "source": [
    "!pip3.7 install python-dotenv --user\n",
    "!pip3.7 install --user kaggle"
   ]
  },
  {
   "cell_type": "code",
   "execution_count": 1,
   "metadata": {},
   "outputs": [
    {
     "name": "stdout",
     "output_type": "stream",
     "text": [
      "/home/doogle/.kaggle\n"
     ]
    },
    {
     "name": "stderr",
     "output_type": "stream",
     "text": [
      "100%|██████████| 59.8k/59.8k [00:00<00:00, 1.98MB/s]"
     ]
    },
    {
     "name": "stdout",
     "output_type": "stream",
     "text": [
      "Downloading train.csv to /doogle/githubrepos/datawrangling/datawarangling\n",
      "\n"
     ]
    },
    {
     "name": "stderr",
     "output_type": "stream",
     "text": [
      "\n",
      "100%|██████████| 28.0k/28.0k [00:00<00:00, 4.68MB/s]"
     ]
    },
    {
     "name": "stdout",
     "output_type": "stream",
     "text": [
      "Downloading test.csv to /doogle/githubrepos/datawrangling/datawarangling\n",
      "\n"
     ]
    },
    {
     "name": "stderr",
     "output_type": "stream",
     "text": [
      "\n",
      "100%|██████████| 3.18k/3.18k [00:00<00:00, 748kB/s]"
     ]
    },
    {
     "name": "stdout",
     "output_type": "stream",
     "text": [
      "Downloading gender_submission.csv to /doogle/githubrepos/datawrangling/datawarangling\n",
      "\n"
     ]
    },
    {
     "name": "stderr",
     "output_type": "stream",
     "text": [
      "\n"
     ]
    }
   ],
   "source": [
    "import os\n",
    "import sys\n",
    "from dotenv import load_dotenv, find_dotenv\n",
    "dotenvpth=find_dotenv()\n",
    "load_dotenv(dotenvpth)\n",
    "\"\"\"Ensure KAGGLE_COFIG_DIR is in os.environ else add it to download.\n",
    "no KAGGLE_USERNAME and KAGGLE_PWD to be in the environment varibles.\n",
    "It create problem for the kaggle api.\"\"\"\n",
    "from kaggle import cli\n",
    "\n",
    "\n",
    "def getdata(clicmd, storelocation):\n",
    "    \"\"\"\n",
    "    Get files from Kaggle using kaggle api.\n",
    "    \"\"\"\n",
    "#     os.environ.setdefault(\"KAGGLE_CONFIG_DIR\",\"/home/doogle/.kaggle\")\n",
    "    path = os.path.join(os.path.expanduser('~'), '.kaggle')\n",
    "    try:\n",
    "        os.makedirs(path)\n",
    "    except FileExistsError:\n",
    "        pass\n",
    "\n",
    "    \"\"\"To Safeguard the file keep its permission 600\n",
    "    with open(os.path.join(path, 'kaggle.json'), 'r') as fp:\n",
    "        os.chmod(fp.name, 0o600)\n",
    "    \"\"\"\n",
    "\n",
    "    \"\"\"--force is to force download the file even if its already downloded.\"\"\"\n",
    "    sys.argv = clicmd.split()\n",
    "    \"\"\"calling kaggle cli to get the files using credentials from ~/.kaggle/kaggle.json\"\"\"\n",
    "    os.chdir(storelocation)\n",
    "#     os.environ.setdefault(\"KAGGLE_CONFIG_DIR\",\"/home/doogle/.kaggle\")\n",
    "    cli.main()\n",
    "\n",
    "getdata(clicmd='kaggle competitions download -c titanic --force', \n",
    "        storelocation=r\"/doogle/githubrepos/datawrangling/datawarangling/\")"
   ]
  },
  {
   "cell_type": "code",
   "execution_count": 2,
   "metadata": {},
   "outputs": [
    {
     "data": {
      "text/plain": [
       "['2018-08-26 00:35:57 /doogle/githubrepos/datawrangling/datawarangling/__init__.py',\n",
       " '2018-08-26 00:44:38 /doogle/githubrepos/datawrangling/datawarangling/titanic.csv',\n",
       " '2018-08-26 13:30:15 /doogle/githubrepos/datawrangling/datawarangling/datawrangling_jupyter1.ipynb',\n",
       " '2018-08-26 13:45:28 /doogle/githubrepos/datawrangling/datawarangling/cleansed.csv',\n",
       " '2018-08-26 15:00:14 /doogle/githubrepos/datawrangling/datawarangling/svmpredict.ipynb',\n",
       " '2018-08-26 15:00:34 /doogle/githubrepos/datawrangling/datawarangling/decisiontree_predict.ipynb',\n",
       " '2018-08-26 15:01:02 /doogle/githubrepos/datawrangling/datawarangling/datawrangling_cleandata.ipynb',\n",
       " '2018-08-28 08:58:05 /doogle/githubrepos/datawrangling/datawarangling/dw_module1.py',\n",
       " '2018-09-02 09:24:32 /doogle/githubrepos/datawrangling/datawarangling/.ipynb_checkpoints',\n",
       " '2018-09-02 09:32:32 /doogle/githubrepos/datawrangling/datawarangling/datawrangling_jupyter2.ipynb',\n",
       " '2018-09-02 12:44:52 /doogle/githubrepos/datawrangling/datawarangling/kaggledownload.py',\n",
       " '2018-09-02 13:09:12 /doogle/githubrepos/datawrangling/datawarangling/train.csv',\n",
       " '2018-09-02 13:09:13 /doogle/githubrepos/datawrangling/datawarangling/test.csv',\n",
       " '2018-09-02 13:09:15 /doogle/githubrepos/datawrangling/datawarangling/gender_submission.csv',\n",
       " '2018-09-02 13:10:15 /doogle/githubrepos/datawrangling/datawarangling/.env',\n",
       " '2018-09-02 13:10:44 /doogle/githubrepos/datawrangling/datawarangling/DataScienceMunging.ipynb']"
      ]
     },
     "execution_count": 2,
     "metadata": {},
     "output_type": "execute_result"
    }
   ],
   "source": [
    "os.listdir(\"/doogle/githubrepos/datawrangling/datawarangling/\")\n",
    "from pathlib import Path\n",
    "import datetime\n",
    "def t(tm):\n",
    "    return datetime.datetime.fromtimestamp(tm).strftime('%Y-%m-%d %H:%M:%S')\n",
    "sorted([\" \".join([t(f.stat().st_mtime), str(f)]) for f in Path(\"/doogle/githubrepos/datawrangling/datawarangling/\").iterdir()])\n"
   ]
  },
  {
   "cell_type": "markdown",
   "metadata": {},
   "source": [
    "# Exploring and Processing Data"
   ]
  },
  {
   "cell_type": "code",
   "execution_count": 2,
   "metadata": {},
   "outputs": [],
   "source": [
    "import os\n",
    "import numpy as np\n",
    "import pandas as pd"
   ]
  },
  {
   "cell_type": "code",
   "execution_count": 3,
   "metadata": {},
   "outputs": [
    {
     "name": "stdout",
     "output_type": "stream",
     "text": [
      "<class 'pandas.core.frame.DataFrame'> <class 'pandas.core.frame.DataFrame'>\n",
      "<class 'pandas.core.frame.DataFrame'>\n",
      "Int64Index: 891 entries, 1 to 891\n",
      "Data columns (total 11 columns):\n",
      "Survived    891 non-null int64\n",
      "Pclass      891 non-null int64\n",
      "Name        891 non-null object\n",
      "Sex         891 non-null object\n",
      "Age         714 non-null float64\n",
      "SibSp       891 non-null int64\n",
      "Parch       891 non-null int64\n",
      "Ticket      891 non-null object\n",
      "Fare        891 non-null float64\n",
      "Cabin       204 non-null object\n",
      "Embarked    889 non-null object\n",
      "dtypes: float64(2), int64(4), object(5)\n",
      "memory usage: 83.5+ KB\n",
      "None\n",
      "<class 'pandas.core.frame.DataFrame'>\n",
      "Int64Index: 418 entries, 892 to 1309\n",
      "Data columns (total 10 columns):\n",
      "Pclass      418 non-null int64\n",
      "Name        418 non-null object\n",
      "Sex         418 non-null object\n",
      "Age         332 non-null float64\n",
      "SibSp       418 non-null int64\n",
      "Parch       418 non-null int64\n",
      "Ticket      418 non-null object\n",
      "Fare        417 non-null float64\n",
      "Cabin       91 non-null object\n",
      "Embarked    418 non-null object\n",
      "dtypes: float64(2), int64(3), object(5)\n",
      "memory usage: 35.9+ KB\n",
      "None\n",
      "<class 'pandas.core.frame.DataFrame'>\n",
      "Int64Index: 1309 entries, 1 to 1309\n",
      "Data columns (total 11 columns):\n",
      "Survived    1309 non-null int64\n",
      "Pclass      1309 non-null int64\n",
      "Name        1309 non-null object\n",
      "Sex         1309 non-null object\n",
      "Age         1046 non-null float64\n",
      "SibSp       1309 non-null int64\n",
      "Parch       1309 non-null int64\n",
      "Ticket      1309 non-null object\n",
      "Fare        1308 non-null float64\n",
      "Cabin       295 non-null object\n",
      "Embarked    1307 non-null object\n",
      "dtypes: float64(2), int64(4), object(5)\n",
      "memory usage: 122.7+ KB\n"
     ]
    }
   ],
   "source": [
    "data_path = os.path.join(os.curdir,\"data\")\n",
    "trfl = os.path.join(data_path, \"train.csv\")\n",
    "tstfl = os.path.join(data_path, \"test.csv\")\n",
    "\n",
    "trdf = pd.read_csv(trfl, index_col=\"PassengerId\")\n",
    "tstdf = pd.read_csv(tstfl, index_col=\"PassengerId\")\n",
    "print(type(trdf), type(tstdf))\n",
    "from pprint import pprint as pp\n",
    "pp(trdf.info())\n",
    "pp(tstdf.info())\n",
    "tstdf[\"Survived\"]=-999\n",
    "df = pd.concat((trdf, tstdf), axis=0, sort=False)\n",
    "df.info()"
   ]
  },
  {
   "cell_type": "code",
   "execution_count": 4,
   "metadata": {},
   "outputs": [
    {
     "data": {
      "text/html": [
       "<div>\n",
       "<style scoped>\n",
       "    .dataframe tbody tr th:only-of-type {\n",
       "        vertical-align: middle;\n",
       "    }\n",
       "\n",
       "    .dataframe tbody tr th {\n",
       "        vertical-align: top;\n",
       "    }\n",
       "\n",
       "    .dataframe thead th {\n",
       "        text-align: right;\n",
       "    }\n",
       "</style>\n",
       "<table border=\"1\" class=\"dataframe\">\n",
       "  <thead>\n",
       "    <tr style=\"text-align: right;\">\n",
       "      <th></th>\n",
       "      <th>Age</th>\n",
       "      <th>Sex</th>\n",
       "      <th>Cabin</th>\n",
       "    </tr>\n",
       "    <tr>\n",
       "      <th>PassengerId</th>\n",
       "      <th></th>\n",
       "      <th></th>\n",
       "      <th></th>\n",
       "    </tr>\n",
       "  </thead>\n",
       "  <tbody>\n",
       "    <tr>\n",
       "      <th>5</th>\n",
       "      <td>35.0</td>\n",
       "      <td>male</td>\n",
       "      <td>NaN</td>\n",
       "    </tr>\n",
       "    <tr>\n",
       "      <th>6</th>\n",
       "      <td>NaN</td>\n",
       "      <td>male</td>\n",
       "      <td>NaN</td>\n",
       "    </tr>\n",
       "    <tr>\n",
       "      <th>7</th>\n",
       "      <td>54.0</td>\n",
       "      <td>male</td>\n",
       "      <td>E46</td>\n",
       "    </tr>\n",
       "    <tr>\n",
       "      <th>8</th>\n",
       "      <td>2.0</td>\n",
       "      <td>male</td>\n",
       "      <td>NaN</td>\n",
       "    </tr>\n",
       "    <tr>\n",
       "      <th>9</th>\n",
       "      <td>27.0</td>\n",
       "      <td>female</td>\n",
       "      <td>NaN</td>\n",
       "    </tr>\n",
       "    <tr>\n",
       "      <th>10</th>\n",
       "      <td>14.0</td>\n",
       "      <td>female</td>\n",
       "      <td>NaN</td>\n",
       "    </tr>\n",
       "  </tbody>\n",
       "</table>\n",
       "</div>"
      ],
      "text/plain": [
       "              Age     Sex Cabin\n",
       "PassengerId                    \n",
       "5            35.0    male   NaN\n",
       "6             NaN    male   NaN\n",
       "7            54.0    male   E46\n",
       "8             2.0    male   NaN\n",
       "9            27.0  female   NaN\n",
       "10           14.0  female   NaN"
      ]
     },
     "execution_count": 4,
     "metadata": {},
     "output_type": "execute_result"
    }
   ],
   "source": [
    "pd.set_option('display.max_rows', 10)\n",
    "df.head(3)\n",
    "df.tail()\n",
    "df[[\"Survived\", \"Name\"]]\n",
    "df.Survived # or df[\"Survived\"]\n",
    "df.loc[5:10,\"Age\":\"Cabin\"] #Column Range\n",
    "df.loc[5:10, [\"Age\", \"Sex\", \"Cabin\"]]"
   ]
  },
  {
   "cell_type": "code",
   "execution_count": 5,
   "metadata": {},
   "outputs": [
    {
     "data": {
      "text/html": [
       "<div>\n",
       "<style scoped>\n",
       "    .dataframe tbody tr th:only-of-type {\n",
       "        vertical-align: middle;\n",
       "    }\n",
       "\n",
       "    .dataframe tbody tr th {\n",
       "        vertical-align: top;\n",
       "    }\n",
       "\n",
       "    .dataframe thead th {\n",
       "        text-align: right;\n",
       "    }\n",
       "</style>\n",
       "<table border=\"1\" class=\"dataframe\">\n",
       "  <thead>\n",
       "    <tr style=\"text-align: right;\">\n",
       "      <th></th>\n",
       "      <th>Survived</th>\n",
       "      <th>Pclass</th>\n",
       "      <th>Name</th>\n",
       "      <th>Sex</th>\n",
       "      <th>Age</th>\n",
       "      <th>SibSp</th>\n",
       "      <th>Parch</th>\n",
       "      <th>Ticket</th>\n",
       "      <th>Fare</th>\n",
       "      <th>Cabin</th>\n",
       "      <th>Embarked</th>\n",
       "    </tr>\n",
       "    <tr>\n",
       "      <th>PassengerId</th>\n",
       "      <th></th>\n",
       "      <th></th>\n",
       "      <th></th>\n",
       "      <th></th>\n",
       "      <th></th>\n",
       "      <th></th>\n",
       "      <th></th>\n",
       "      <th></th>\n",
       "      <th></th>\n",
       "      <th></th>\n",
       "      <th></th>\n",
       "    </tr>\n",
       "  </thead>\n",
       "  <tbody>\n",
       "    <tr>\n",
       "      <th>1</th>\n",
       "      <td>0</td>\n",
       "      <td>3</td>\n",
       "      <td>Braund, Mr. Owen Harris</td>\n",
       "      <td>male</td>\n",
       "      <td>22.0</td>\n",
       "      <td>1</td>\n",
       "      <td>0</td>\n",
       "      <td>A/5 21171</td>\n",
       "      <td>7.2500</td>\n",
       "      <td>NaN</td>\n",
       "      <td>S</td>\n",
       "    </tr>\n",
       "    <tr>\n",
       "      <th>5</th>\n",
       "      <td>0</td>\n",
       "      <td>3</td>\n",
       "      <td>Allen, Mr. William Henry</td>\n",
       "      <td>male</td>\n",
       "      <td>35.0</td>\n",
       "      <td>0</td>\n",
       "      <td>0</td>\n",
       "      <td>373450</td>\n",
       "      <td>8.0500</td>\n",
       "      <td>NaN</td>\n",
       "      <td>S</td>\n",
       "    </tr>\n",
       "    <tr>\n",
       "      <th>6</th>\n",
       "      <td>0</td>\n",
       "      <td>3</td>\n",
       "      <td>Moran, Mr. James</td>\n",
       "      <td>male</td>\n",
       "      <td>NaN</td>\n",
       "      <td>0</td>\n",
       "      <td>0</td>\n",
       "      <td>330877</td>\n",
       "      <td>8.4583</td>\n",
       "      <td>NaN</td>\n",
       "      <td>Q</td>\n",
       "    </tr>\n",
       "    <tr>\n",
       "      <th>8</th>\n",
       "      <td>0</td>\n",
       "      <td>3</td>\n",
       "      <td>Palsson, Master. Gosta Leonard</td>\n",
       "      <td>male</td>\n",
       "      <td>2.0</td>\n",
       "      <td>3</td>\n",
       "      <td>1</td>\n",
       "      <td>349909</td>\n",
       "      <td>21.0750</td>\n",
       "      <td>NaN</td>\n",
       "      <td>S</td>\n",
       "    </tr>\n",
       "    <tr>\n",
       "      <th>13</th>\n",
       "      <td>0</td>\n",
       "      <td>3</td>\n",
       "      <td>Saundercock, Mr. William Henry</td>\n",
       "      <td>male</td>\n",
       "      <td>20.0</td>\n",
       "      <td>0</td>\n",
       "      <td>0</td>\n",
       "      <td>A/5. 2151</td>\n",
       "      <td>8.0500</td>\n",
       "      <td>NaN</td>\n",
       "      <td>S</td>\n",
       "    </tr>\n",
       "    <tr>\n",
       "      <th>...</th>\n",
       "      <td>...</td>\n",
       "      <td>...</td>\n",
       "      <td>...</td>\n",
       "      <td>...</td>\n",
       "      <td>...</td>\n",
       "      <td>...</td>\n",
       "      <td>...</td>\n",
       "      <td>...</td>\n",
       "      <td>...</td>\n",
       "      <td>...</td>\n",
       "      <td>...</td>\n",
       "    </tr>\n",
       "    <tr>\n",
       "      <th>1298</th>\n",
       "      <td>-999</td>\n",
       "      <td>2</td>\n",
       "      <td>Ware, Mr. William Jeffery</td>\n",
       "      <td>male</td>\n",
       "      <td>23.0</td>\n",
       "      <td>1</td>\n",
       "      <td>0</td>\n",
       "      <td>28666</td>\n",
       "      <td>10.5000</td>\n",
       "      <td>NaN</td>\n",
       "      <td>S</td>\n",
       "    </tr>\n",
       "    <tr>\n",
       "      <th>1305</th>\n",
       "      <td>-999</td>\n",
       "      <td>3</td>\n",
       "      <td>Spector, Mr. Woolf</td>\n",
       "      <td>male</td>\n",
       "      <td>NaN</td>\n",
       "      <td>0</td>\n",
       "      <td>0</td>\n",
       "      <td>A.5. 3236</td>\n",
       "      <td>8.0500</td>\n",
       "      <td>NaN</td>\n",
       "      <td>S</td>\n",
       "    </tr>\n",
       "    <tr>\n",
       "      <th>1307</th>\n",
       "      <td>-999</td>\n",
       "      <td>3</td>\n",
       "      <td>Saether, Mr. Simon Sivertsen</td>\n",
       "      <td>male</td>\n",
       "      <td>38.5</td>\n",
       "      <td>0</td>\n",
       "      <td>0</td>\n",
       "      <td>SOTON/O.Q. 3101262</td>\n",
       "      <td>7.2500</td>\n",
       "      <td>NaN</td>\n",
       "      <td>S</td>\n",
       "    </tr>\n",
       "    <tr>\n",
       "      <th>1308</th>\n",
       "      <td>-999</td>\n",
       "      <td>3</td>\n",
       "      <td>Ware, Mr. Frederick</td>\n",
       "      <td>male</td>\n",
       "      <td>NaN</td>\n",
       "      <td>0</td>\n",
       "      <td>0</td>\n",
       "      <td>359309</td>\n",
       "      <td>8.0500</td>\n",
       "      <td>NaN</td>\n",
       "      <td>S</td>\n",
       "    </tr>\n",
       "    <tr>\n",
       "      <th>1309</th>\n",
       "      <td>-999</td>\n",
       "      <td>3</td>\n",
       "      <td>Peter, Master. Michael J</td>\n",
       "      <td>male</td>\n",
       "      <td>NaN</td>\n",
       "      <td>1</td>\n",
       "      <td>1</td>\n",
       "      <td>2668</td>\n",
       "      <td>22.3583</td>\n",
       "      <td>NaN</td>\n",
       "      <td>C</td>\n",
       "    </tr>\n",
       "  </tbody>\n",
       "</table>\n",
       "<p>664 rows × 11 columns</p>\n",
       "</div>"
      ],
      "text/plain": [
       "             Survived  Pclass                            Name   Sex   Age  \\\n",
       "PassengerId                                                                 \n",
       "1                   0       3         Braund, Mr. Owen Harris  male  22.0   \n",
       "5                   0       3        Allen, Mr. William Henry  male  35.0   \n",
       "6                   0       3                Moran, Mr. James  male   NaN   \n",
       "8                   0       3  Palsson, Master. Gosta Leonard  male   2.0   \n",
       "13                  0       3  Saundercock, Mr. William Henry  male  20.0   \n",
       "...               ...     ...                             ...   ...   ...   \n",
       "1298             -999       2       Ware, Mr. William Jeffery  male  23.0   \n",
       "1305             -999       3              Spector, Mr. Woolf  male   NaN   \n",
       "1307             -999       3    Saether, Mr. Simon Sivertsen  male  38.5   \n",
       "1308             -999       3             Ware, Mr. Frederick  male   NaN   \n",
       "1309             -999       3        Peter, Master. Michael J  male   NaN   \n",
       "\n",
       "             SibSp  Parch              Ticket     Fare Cabin Embarked  \n",
       "PassengerId                                                            \n",
       "1                1      0           A/5 21171   7.2500   NaN        S  \n",
       "5                0      0              373450   8.0500   NaN        S  \n",
       "6                0      0              330877   8.4583   NaN        Q  \n",
       "8                3      1              349909  21.0750   NaN        S  \n",
       "13               0      0           A/5. 2151   8.0500   NaN        S  \n",
       "...            ...    ...                 ...      ...   ...      ...  \n",
       "1298             1      0               28666  10.5000   NaN        S  \n",
       "1305             0      0           A.5. 3236   8.0500   NaN        S  \n",
       "1307             0      0  SOTON/O.Q. 3101262   7.2500   NaN        S  \n",
       "1308             0      0              359309   8.0500   NaN        S  \n",
       "1309             1      1                2668  22.3583   NaN        C  \n",
       "\n",
       "[664 rows x 11 columns]"
      ]
     },
     "execution_count": 5,
     "metadata": {},
     "output_type": "execute_result"
    }
   ],
   "source": [
    "df.iloc[5:15,4:-2] #Column Range\n",
    "df.iloc[5:15,2:-2]\n",
    "len(df.loc[df.Sex==\"male\",:])\n",
    "df.loc[((df.Sex==\"male\") & (df.Pclass != 1)),:]"
   ]
  },
  {
   "cell_type": "markdown",
   "metadata": {},
   "source": [
    "# Sumary Statistics"
   ]
  },
  {
   "cell_type": "code",
   "execution_count": 6,
   "metadata": {},
   "outputs": [
    {
     "data": {
      "text/html": [
       "<div>\n",
       "<style scoped>\n",
       "    .dataframe tbody tr th:only-of-type {\n",
       "        vertical-align: middle;\n",
       "    }\n",
       "\n",
       "    .dataframe tbody tr th {\n",
       "        vertical-align: top;\n",
       "    }\n",
       "\n",
       "    .dataframe thead th {\n",
       "        text-align: right;\n",
       "    }\n",
       "</style>\n",
       "<table border=\"1\" class=\"dataframe\">\n",
       "  <thead>\n",
       "    <tr style=\"text-align: right;\">\n",
       "      <th></th>\n",
       "      <th>Survived</th>\n",
       "      <th>Pclass</th>\n",
       "      <th>Age</th>\n",
       "      <th>SibSp</th>\n",
       "      <th>Parch</th>\n",
       "      <th>Fare</th>\n",
       "    </tr>\n",
       "  </thead>\n",
       "  <tbody>\n",
       "    <tr>\n",
       "      <th>count</th>\n",
       "      <td>1309.000000</td>\n",
       "      <td>1309.000000</td>\n",
       "      <td>1046.000000</td>\n",
       "      <td>1309.000000</td>\n",
       "      <td>1309.000000</td>\n",
       "      <td>1308.000000</td>\n",
       "    </tr>\n",
       "    <tr>\n",
       "      <th>mean</th>\n",
       "      <td>-318.747135</td>\n",
       "      <td>2.294882</td>\n",
       "      <td>29.881138</td>\n",
       "      <td>0.498854</td>\n",
       "      <td>0.385027</td>\n",
       "      <td>33.295479</td>\n",
       "    </tr>\n",
       "    <tr>\n",
       "      <th>std</th>\n",
       "      <td>466.107167</td>\n",
       "      <td>0.837836</td>\n",
       "      <td>14.413493</td>\n",
       "      <td>1.041658</td>\n",
       "      <td>0.865560</td>\n",
       "      <td>51.758668</td>\n",
       "    </tr>\n",
       "    <tr>\n",
       "      <th>min</th>\n",
       "      <td>-999.000000</td>\n",
       "      <td>1.000000</td>\n",
       "      <td>0.170000</td>\n",
       "      <td>0.000000</td>\n",
       "      <td>0.000000</td>\n",
       "      <td>0.000000</td>\n",
       "    </tr>\n",
       "    <tr>\n",
       "      <th>25%</th>\n",
       "      <td>-999.000000</td>\n",
       "      <td>2.000000</td>\n",
       "      <td>21.000000</td>\n",
       "      <td>0.000000</td>\n",
       "      <td>0.000000</td>\n",
       "      <td>7.895800</td>\n",
       "    </tr>\n",
       "    <tr>\n",
       "      <th>50%</th>\n",
       "      <td>0.000000</td>\n",
       "      <td>3.000000</td>\n",
       "      <td>28.000000</td>\n",
       "      <td>0.000000</td>\n",
       "      <td>0.000000</td>\n",
       "      <td>14.454200</td>\n",
       "    </tr>\n",
       "    <tr>\n",
       "      <th>75%</th>\n",
       "      <td>1.000000</td>\n",
       "      <td>3.000000</td>\n",
       "      <td>39.000000</td>\n",
       "      <td>1.000000</td>\n",
       "      <td>0.000000</td>\n",
       "      <td>31.275000</td>\n",
       "    </tr>\n",
       "    <tr>\n",
       "      <th>max</th>\n",
       "      <td>1.000000</td>\n",
       "      <td>3.000000</td>\n",
       "      <td>80.000000</td>\n",
       "      <td>8.000000</td>\n",
       "      <td>9.000000</td>\n",
       "      <td>512.329200</td>\n",
       "    </tr>\n",
       "  </tbody>\n",
       "</table>\n",
       "</div>"
      ],
      "text/plain": [
       "          Survived       Pclass          Age        SibSp        Parch  \\\n",
       "count  1309.000000  1309.000000  1046.000000  1309.000000  1309.000000   \n",
       "mean   -318.747135     2.294882    29.881138     0.498854     0.385027   \n",
       "std     466.107167     0.837836    14.413493     1.041658     0.865560   \n",
       "min    -999.000000     1.000000     0.170000     0.000000     0.000000   \n",
       "25%    -999.000000     2.000000    21.000000     0.000000     0.000000   \n",
       "50%       0.000000     3.000000    28.000000     0.000000     0.000000   \n",
       "75%       1.000000     3.000000    39.000000     1.000000     0.000000   \n",
       "max       1.000000     3.000000    80.000000     8.000000     9.000000   \n",
       "\n",
       "              Fare  \n",
       "count  1308.000000  \n",
       "mean     33.295479  \n",
       "std      51.758668  \n",
       "min       0.000000  \n",
       "25%       7.895800  \n",
       "50%      14.454200  \n",
       "75%      31.275000  \n",
       "max     512.329200  "
      ]
     },
     "execution_count": 6,
     "metadata": {},
     "output_type": "execute_result"
    }
   ],
   "source": [
    "df.describe()"
   ]
  },
  {
   "cell_type": "code",
   "execution_count": 7,
   "metadata": {},
   "outputs": [
    {
     "name": "stdout",
     "output_type": "stream",
     "text": [
      "<class 'pandas.core.frame.DataFrame'>\n",
      "Int64Index: 1309 entries, 1 to 1309\n",
      "Data columns (total 11 columns):\n",
      "Survived    1309 non-null int64\n",
      "Pclass      1309 non-null int64\n",
      "Name        1309 non-null object\n",
      "Sex         1309 non-null object\n",
      "Age         1046 non-null float64\n",
      "SibSp       1309 non-null int64\n",
      "Parch       1309 non-null int64\n",
      "Ticket      1309 non-null object\n",
      "Fare        1308 non-null float64\n",
      "Cabin       295 non-null object\n",
      "Embarked    1307 non-null object\n",
      "dtypes: float64(2), int64(4), object(5)\n",
      "memory usage: 162.7+ KB\n"
     ]
    }
   ],
   "source": [
    "df.info()"
   ]
  },
  {
   "cell_type": "code",
   "execution_count": 8,
   "metadata": {},
   "outputs": [
    {
     "name": "stdout",
     "output_type": "stream",
     "text": [
      "{'25%': 7.8958,\n",
      " '50%': 14.4542,\n",
      " '75%': 31.275,\n",
      " 'max': 512.3292,\n",
      " 'mean': 33.29547928134557,\n",
      " 'median': 14.4542,\n",
      " 'min': 512.3292,\n",
      " 'range': 512.3292,\n",
      " 'std': 51.75866823917411,\n",
      " 'variance': 2678.959737892891}\n"
     ]
    }
   ],
   "source": [
    "pp({\"mean\":df.Fare.mean(), \"median\": df.Fare.median(),\n",
    "   \"min\": df.Fare.max(), \"max\": df.Fare.max(),\n",
    "   \"range\": df.Fare.max() - df.Fare.min(),\n",
    "   \"25%\": df.Fare.quantile(.25),\n",
    "   \"50%\": df.Fare.quantile(.5),\n",
    "   \"75%\": df.Fare.quantile(.75),\n",
    "   \"variance\": df.Fare.var(),\n",
    "   \"std\": df.Fare.std()})"
   ]
  },
  {
   "cell_type": "code",
   "execution_count": 9,
   "metadata": {},
   "outputs": [
    {
     "name": "stdout",
     "output_type": "stream",
     "text": [
      "Requirement already satisfied: matplotlib in /home/doogle/.local/lib/python3.7/site-packages (2.2.3)\r\n",
      "Requirement already satisfied: numpy>=1.7.1 in /usr/local/lib/python3.7/site-packages (from matplotlib) (1.15.1)\r\n",
      "Requirement already satisfied: pytz in /home/doogle/.local/lib/python3.7/site-packages (from matplotlib) (2018.5)\r\n",
      "Requirement already satisfied: kiwisolver>=1.0.1 in /home/doogle/.local/lib/python3.7/site-packages (from matplotlib) (1.0.1)\r\n",
      "Requirement already satisfied: python-dateutil>=2.1 in /home/doogle/.local/lib/python3.7/site-packages (from matplotlib) (2.7.3)\r\n",
      "Requirement already satisfied: pyparsing!=2.0.4,!=2.1.2,!=2.1.6,>=2.0.1 in /home/doogle/.local/lib/python3.7/site-packages (from matplotlib) (2.2.0)\r\n",
      "Requirement already satisfied: six>=1.10 in /home/doogle/.local/lib/python3.7/site-packages (from matplotlib) (1.11.0)\r\n",
      "Requirement already satisfied: cycler>=0.10 in /home/doogle/.local/lib/python3.7/site-packages (from matplotlib) (0.10.0)\r\n",
      "Requirement already satisfied: setuptools in /usr/local/lib/python3.7/site-packages (from kiwisolver>=1.0.1->matplotlib) (39.0.1)\r\n"
     ]
    }
   ],
   "source": [
    "!pip3.7 install matplotlib --user"
   ]
  },
  {
   "cell_type": "code",
   "execution_count": 12,
   "metadata": {},
   "outputs": [],
   "source": [
    "%matplotlib inline"
   ]
  },
  {
   "cell_type": "code",
   "execution_count": 13,
   "metadata": {},
   "outputs": [
    {
     "data": {
      "text/plain": [
       "<matplotlib.axes._subplots.AxesSubplot at 0x7f916cad39e8>"
      ]
     },
     "execution_count": 13,
     "metadata": {},
     "output_type": "execute_result"
    },
    {
     "data": {
      "image/png": "[encoded data removed]",
      "text/plain": [
       "<Figure size 432x288 with 1 Axes>"
      ]
     },
     "metadata": {},
     "output_type": "display_data"
    }
   ],
   "source": [
    "df.Fare.plot(kind=\"box\")"
   ]
  },
  {
   "cell_type": "code",
   "execution_count": 20,
   "metadata": {},
   "outputs": [
    {
     "name": "stdout",
     "output_type": "stream",
     "text": [
      "(           Survived       Pclass                  Name   Sex          Age  \\\n",
      "count   1309.000000  1309.000000                  1309  1309  1046.000000   \n",
      "unique          NaN          NaN                  1307     2          NaN   \n",
      "top             NaN          NaN  Connolly, Miss. Kate  male          NaN   \n",
      "freq            NaN          NaN                     2   843          NaN   \n",
      "mean    -318.747135     2.294882                   NaN   NaN    29.881138   \n",
      "...             ...          ...                   ...   ...          ...   \n",
      "min     -999.000000     1.000000                   NaN   NaN     0.170000   \n",
      "25%     -999.000000     2.000000                   NaN   NaN    21.000000   \n",
      "50%        0.000000     3.000000                   NaN   NaN    28.000000   \n",
      "75%        1.000000     3.000000                   NaN   NaN    39.000000   \n",
      "max        1.000000     3.000000                   NaN   NaN    80.000000   \n",
      "\n",
      "              SibSp        Parch    Ticket         Fare        Cabin Embarked  \n",
      "count   1309.000000  1309.000000      1309  1308.000000          295     1307  \n",
      "unique          NaN          NaN       929          NaN          186        3  \n",
      "top             NaN          NaN  CA. 2343          NaN  C23 C25 C27        S  \n",
      "freq            NaN          NaN        11          NaN            6      914  \n",
      "mean       0.498854     0.385027       NaN    33.295479          NaN      NaN  \n",
      "...             ...          ...       ...          ...          ...      ...  \n",
      "min        0.000000     0.000000       NaN     0.000000          NaN      NaN  \n",
      "25%        0.000000     0.000000       NaN     7.895800          NaN      NaN  \n",
      "50%        0.000000     0.000000       NaN    14.454200          NaN      NaN  \n",
      "75%        1.000000     0.000000       NaN    31.275000          NaN      NaN  \n",
      "max        8.000000     9.000000       NaN   512.329200          NaN      NaN  \n",
      "\n",
      "[11 rows x 11 columns],\n",
      " male      0.644003\n",
      "female    0.355997\n",
      "Name: Sex, dtype: float64,\n",
      " male      0.647587\n",
      "female    0.352413\n",
      "Name: Sex, dtype: float64)\n"
     ]
    }
   ],
   "source": [
    "pp((df.describe(include=\"all\"), df.Sex.value_counts(normalize=True),\n",
    "   df[df.Survived != -999].Sex.value_counts(normalize=True)))"
   ]
  },
  {
   "cell_type": "code",
   "execution_count": 26,
   "metadata": {},
   "outputs": [
    {
     "data": {
      "text/plain": [
       "<matplotlib.axes._subplots.AxesSubplot at 0x7f9168a53da0>"
      ]
     },
     "execution_count": 26,
     "metadata": {},
     "output_type": "execute_result"
    },
    {
     "data": {
      "image/png": "[encoded data removed]",
      "text/plain": [
       "<Figure size 432x288 with 1 Axes>"
      ]
     },
     "metadata": {},
     "output_type": "display_data"
    }
   ],
   "source": [
    "df.SibSp.value_counts().plot(kind=\"bar\")"
   ]
  },
  {
   "cell_type": "code",
   "execution_count": 52,
   "metadata": {},
   "outputs": [
    {
     "name": "stdout",
     "output_type": "stream",
     "text": [
      "Current size: [12.0, 9.0]\n"
     ]
    },
    {
     "data": {
      "text/plain": [
       "<matplotlib.axes._subplots.AxesSubplot at 0x7f9167414d30>"
      ]
     },
     "execution_count": 52,
     "metadata": {},
     "output_type": "execute_result"
    },
    {
     "data": {
      "image/png": "[encoded data removed]",
      "text/plain": [
       "<Figure size 864x648 with 4 Axes>"
      ]
     },
     "metadata": {},
     "output_type": "display_data"
    }
   ],
   "source": [
    "import matplotlib.pyplot as plt\n",
    "# Get current size\n",
    "fig_size = plt.rcParams[\"figure.figsize\"]\n",
    " \n",
    "# Prints: [8.0, 6.0]\n",
    "print(\"Current size:\", fig_size)\n",
    "# Set figure width to 12 and height to 9\n",
    "fig_size[0] = 12\n",
    "fig_size[1] = 9\n",
    "plt.rcParams[\"figure.figsize\"] = fig_size\n",
    "\n",
    "fig, axes = plt.subplots(nrows=2, ncols=2)\n",
    "df.Pclass.value_counts().plot(kind=\"bar\", rot=0, title=\"Class Wise Passenge Count\", color=\"maroon\",\n",
    "                                 ax=axes[0,0], edgecolor='black', linewidth=1.2)\n",
    "df.Sex.value_counts().plot(kind=\"bar\", rot=0, title=\"Gender Wise Passenge Count\", color=\"g\",\n",
    "                                 ax=axes[0,1], edgecolor='black', linewidth=1.2)\n",
    "\n",
    "df.Age.plot(kind=\"hist\", rot=0, title=\"Histogram for Age\",\n",
    "                                 ax=axes[1,0], edgecolor='black', linewidth=1.2)\n",
    "df.Age.plot(kind=\"hist\", rot=0, title=\"Histogram for Age\",\n",
    "                                 ax=axes[1,1], edgecolor='black', linewidth=1.2, bins=5)"
   ]
  },
  {
   "cell_type": "code",
   "execution_count": 59,
   "metadata": {},
   "outputs": [
    {
     "name": "stdout",
     "output_type": "stream",
     "text": [
      "[0.40767455974362266, 4.367709134122922]\n"
     ]
    },
    {
     "data": {
      "text/plain": [
       "<matplotlib.axes._subplots.AxesSubplot at 0x7f91673c4668>"
      ]
     },
     "execution_count": 59,
     "metadata": {},
     "output_type": "execute_result"
    },
    {
     "data": {
      "image/png": "[encoded data removed]",
      "text/plain": [
       "<Figure size 864x648 with 4 Axes>"
      ]
     },
     "metadata": {},
     "output_type": "display_data"
    }
   ],
   "source": [
    "pp([df.Age.skew(), df.Fare.skew()])\n",
    "fig, axes = plt.subplots(nrows=2, ncols=2)\n",
    "df.plot.scatter(x='Age', y='Fare', title=\"Age vs Fare Scatter\", ax=axes[0, 0], edgecolor='black', linewidth=1.2)\n",
    "df.plot.scatter(x='Age', y='Fare', title=\"Age vs Fare Scatter\", alpha=0.1, ax=axes[0, 1], edgecolor='blue', linewidth=.62)\n",
    "df.plot.scatter(x='Pclass', y='Fare', title=\"Pclass vs Fare Scatter\", alpha=0.15, ax=axes[1, 0], edgecolor='black', linewidth=1.2)\n",
    "df.Age.plot(kind=\"kde\", title=\"Density plot for Age\", ax=axes[1, 1])"
   ]
  },
  {
   "cell_type": "code",
   "execution_count": 70,
   "metadata": {},
   "outputs": [
    {
     "name": "stdout",
     "output_type": "stream",
     "text": [
      "{'Pclass_groupby_Age_Med': Pclass\n",
      "1    39.0\n",
      "2    29.0\n",
      "3    24.0\n",
      "Name: Age, dtype: float64,\n",
      " 'Pclass_groupby_FareAge_Med':            Fare   Age\n",
      "Pclass               \n",
      "1       60.0000  39.0\n",
      "2       15.0458  29.0\n",
      "3        8.0500  24.0,\n",
      " 'Pclass_grpby_FareMean_AgeMed':              Fare   Age\n",
      "Pclass                 \n",
      "1       87.508992  39.0\n",
      "2       21.179196  29.0\n",
      "3       13.302889  24.0,\n",
      " 'Pclass_grpby_complexaggs':              Fare                                   \n",
      "             mean   median       max amin        std\n",
      "Pclass                                              \n",
      "1       87.508992  60.0000  512.3292  0.0  80.447178\n",
      "2       21.179196  15.0458   73.5000  0.0  13.607122\n",
      "3       13.302889   8.0500   69.5500  0.0  11.494358,\n",
      " 'Sex_groupby_Age_Med': Sex\n",
      "female    27.0\n",
      "male      28.0\n",
      "Name: Age, dtype: float64}\n"
     ]
    }
   ],
   "source": [
    "def aggs(pddf):\n",
    "    names = {\n",
    "        'Faremean': pddf['Fare'].mean(),\n",
    "        'Farestd':  pddf['Fare'].std(),\n",
    "        'Farerange': pddf['Fare'].max() - pddf['Fare'].min(),\n",
    "        'FareMax':  pddf['Fare'].max(),\n",
    "        'FareSum': pddf['Fare'].sum(),\n",
    "        'Farenpmin': \n",
    "    }\n",
    "\n",
    "    return pd.Series(names, index=['Farerange', 'Farestd', 'Faremean',\n",
    "                                   'FareSum', 'FareMax', ])\n",
    "aggs = {\n",
    "    \"Fare\":\n",
    "    [\"mean\", \"median\", \"max\", np.min, \"std\" ]\n",
    "}\n",
    "\n",
    "pp({\n",
    "    \"Sex_groupby_Age_Med\": df.groupby('Sex').Age.median(),\n",
    "    \"Pclass_groupby_Age_Med\": df.groupby(['Pclass']).Age.median(),    \n",
    "    \"Pclass_groupby_FareAge_Med\": df.groupby(['Pclass'])['Fare', 'Age'].median(),\n",
    "    \"Pclass_grpby_FareMean_AgeMed\": df.groupby(\"Pclass\").agg({\"Fare\": \"mean\", \"Age\":\"median\"}),\n",
    "    \"Pclass_grpby_complexaggs\": df.groupby(\"Pclass\").agg(aggs)\n",
    "})"
   ]
  },
  {
   "cell_type": "code",
   "execution_count": null,
   "metadata": {},
   "outputs": [],
   "source": []
  }
 ],
 "metadata": {
  "kernelspec": {
   "display_name": "Python 3",
   "language": "python",
   "name": "python3"
  },
  "language_info": {
   "codemirror_mode": {
    "name": "ipython",
    "version": 3
   },
   "file_extension": ".py",
   "mimetype": "text/x-python",
   "name": "python",
   "nbconvert_exporter": "python",
   "pygments_lexer": "ipython3",
   "version": "3.7.0"
  }
 },
 "nbformat": 4,
 "nbformat_minor": 2
}
