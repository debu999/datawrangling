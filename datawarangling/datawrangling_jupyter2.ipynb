{
 "cells": [
  {
   "cell_type": "code",
   "execution_count": 1,
   "metadata": {},
   "outputs": [],
   "source": [
    "import pandas as pd"
   ]
  },
  {
   "cell_type": "code",
   "execution_count": 2,
   "metadata": {},
   "outputs": [
    {
     "name": "stdout",
     "output_type": "stream",
     "text": [
      "  firstname  lastname  age  pretestscore  posttestscore\n",
      "0      Mike       Doe   23             4             75\n",
      "1     James  Cameroon   43             6             32\n",
      "2      John    Cooper   21             3             65\n",
      "3      Mike       Doe   23             4             75\n",
      "4      Fred       Den   42            54             91\n",
      "5   Douglas    Marian   43            23             74\n"
     ]
    }
   ],
   "source": [
    "raw_data = {\"firstname\": (\"Mike\", \"James\", \"John\", \"Mike\", \"Fred\", \"Douglas\"),\n",
    "            \"lastname\": (\"Doe\", \"Cameroon\", \"Cooper\", \"Doe\", \"Den\", \"Marian\"),\n",
    "            \"age\": (23, 43, 21, 23, 42, 43),\n",
    "            \"pretestscore\": (4, 6, 3, 4, 54, 23),\n",
    "            \"posttestscore\": (75, 32, 65, 75, 91, 74)}\n",
    "df = pd.DataFrame(raw_data, columns=(\"firstname\", \"lastname\", \"age\", \"pretestscore\", \"posttestscore\"))\n",
    "print(df)"
   ]
  },
  {
   "cell_type": "code",
   "execution_count": 3,
   "metadata": {},
   "outputs": [
    {
     "data": {
      "text/html": [
       "<div>\n",
       "<style scoped>\n",
       "    .dataframe tbody tr th:only-of-type {\n",
       "        vertical-align: middle;\n",
       "    }\n",
       "\n",
       "    .dataframe tbody tr th {\n",
       "        vertical-align: top;\n",
       "    }\n",
       "\n",
       "    .dataframe thead th {\n",
       "        text-align: right;\n",
       "    }\n",
       "</style>\n",
       "<table border=\"1\" class=\"dataframe\">\n",
       "  <thead>\n",
       "    <tr style=\"text-align: right;\">\n",
       "      <th></th>\n",
       "      <th>firstname</th>\n",
       "      <th>lastname</th>\n",
       "      <th>age</th>\n",
       "      <th>pretestscore</th>\n",
       "      <th>posttestscore</th>\n",
       "    </tr>\n",
       "  </thead>\n",
       "  <tbody>\n",
       "    <tr>\n",
       "      <th>0</th>\n",
       "      <td>Mike</td>\n",
       "      <td>Doe</td>\n",
       "      <td>23</td>\n",
       "      <td>4</td>\n",
       "      <td>75</td>\n",
       "    </tr>\n",
       "    <tr>\n",
       "      <th>1</th>\n",
       "      <td>James</td>\n",
       "      <td>Cameroon</td>\n",
       "      <td>43</td>\n",
       "      <td>6</td>\n",
       "      <td>32</td>\n",
       "    </tr>\n",
       "    <tr>\n",
       "      <th>2</th>\n",
       "      <td>John</td>\n",
       "      <td>Cooper</td>\n",
       "      <td>21</td>\n",
       "      <td>3</td>\n",
       "      <td>65</td>\n",
       "    </tr>\n",
       "    <tr>\n",
       "      <th>4</th>\n",
       "      <td>Fred</td>\n",
       "      <td>Den</td>\n",
       "      <td>42</td>\n",
       "      <td>54</td>\n",
       "      <td>91</td>\n",
       "    </tr>\n",
       "    <tr>\n",
       "      <th>5</th>\n",
       "      <td>Douglas</td>\n",
       "      <td>Marian</td>\n",
       "      <td>43</td>\n",
       "      <td>23</td>\n",
       "      <td>74</td>\n",
       "    </tr>\n",
       "  </tbody>\n",
       "</table>\n",
       "</div>"
      ],
      "text/plain": [
       "  firstname  lastname  age  pretestscore  posttestscore\n",
       "0      Mike       Doe   23             4             75\n",
       "1     James  Cameroon   43             6             32\n",
       "2      John    Cooper   21             3             65\n",
       "4      Fred       Den   42            54             91\n",
       "5   Douglas    Marian   43            23             74"
      ]
     },
     "execution_count": 3,
     "metadata": {},
     "output_type": "execute_result"
    }
   ],
   "source": [
    "df.drop_duplicates()"
   ]
  },
  {
   "cell_type": "code",
   "execution_count": 4,
   "metadata": {},
   "outputs": [
    {
     "name": "stdout",
     "output_type": "stream",
     "text": [
      "   passenger_id  pclass                                               name  \\\n",
      "0          1216       3                                 Smyth, Miss. Julia   \n",
      "1           699       3                                    Cacic, Mr. Luka   \n",
      "2          1267       3  Van Impe, Mrs. Jean Baptiste (Rosalie Paula Go...   \n",
      "3           449       2              Hocking, Mrs. Elizabeth (Eliza Needs)   \n",
      "4           576       2                                    Veal, Mr. James   \n",
      "5          1083       3                           Olsen, Mr. Henry Margido   \n",
      "6           898       3                    Johnson, Mr. William Cahoone Jr   \n",
      "7           560       2                              Sinkkonen, Miss. Anna   \n",
      "8          1079       3                                 Ohman, Miss. Velin   \n",
      "9           908       3                           Jussila, Miss. Mari Aina   \n",
      "\n",
      "      sex   age  sibsp  parch  ticket     fare cabin embarked boat   body  \\\n",
      "0  female   NaN      0      0  335432   7.7333   NaN        Q   13    NaN   \n",
      "1    male  38.0      0      0  315089   8.6625   NaN        S  NaN    NaN   \n",
      "2  female  30.0      1      1  345773  24.1500   NaN        S  NaN    NaN   \n",
      "3  female  54.0      1      3   29105  23.0000   NaN        S    4    NaN   \n",
      "4    male  40.0      0      0   28221  13.0000   NaN        S  NaN    NaN   \n",
      "5    male  28.0      0      0  C 4001  22.5250   NaN        S  NaN  173.0   \n",
      "6    male  19.0      0      0    LINE   0.0000   NaN        S  NaN    NaN   \n",
      "7  female  30.0      0      0  250648  13.0000   NaN        S   10    NaN   \n",
      "8  female  22.0      0      0  347085   7.7750   NaN        S    C    NaN   \n",
      "9  female  21.0      1      0    4137   9.8250   NaN        S  NaN    NaN   \n",
      "\n",
      "                  home.dest  survived  \n",
      "0                       NaN         1  \n",
      "1                   Croatia         0  \n",
      "2                       NaN         0  \n",
      "3      Cornwall / Akron, OH         1  \n",
      "4  Barre, Co Washington, VT         0  \n",
      "5                       NaN         0  \n",
      "6                       NaN         0  \n",
      "7  Finland / Washington, DC         1  \n",
      "8                       NaN         1  \n",
      "9                       NaN         0  \n"
     ]
    }
   ],
   "source": [
    "data = pd.read_csv(\"titanic.csv\")\n",
    "print(data.head(10))"
   ]
  },
  {
   "cell_type": "code",
   "execution_count": null,
   "metadata": {},
   "outputs": [],
   "source": []
  }
 ],
 "metadata": {
  "kernelspec": {
   "display_name": "Python 3",
   "language": "python",
   "name": "python3"
  },
  "language_info": {
   "codemirror_mode": {
    "name": "ipython",
    "version": 3
   },
   "file_extension": ".py",
   "mimetype": "text/x-python",
   "name": "python",
   "nbconvert_exporter": "python",
   "pygments_lexer": "ipython3",
   "version": "3.7.0"
  }
 },
 "nbformat": 4,
 "nbformat_minor": 1
}
